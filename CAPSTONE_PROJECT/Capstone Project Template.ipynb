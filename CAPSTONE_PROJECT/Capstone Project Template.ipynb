{
 "cells": [
  {
   "cell_type": "markdown",
   "metadata": {
    "editable": true
   },
   "source": [
    "# Tourist Visitor Information Database for US Cities\n",
    "### Data Engineering Capstone Project\n",
    "\n",
    "#### Project Summary\n",
    "US Federal body for Toursim Management(USATM) has hired my organisation Rusty's Analtics & Data Consulting(RADC) to extract, transform & load immigration and cities data to one table for their team to carry out advanced analytics. USATM has an advanced analytics team that would like to run use cases such as identifying cities with most tourist footfall and then accordingly allocate budgets for marketing/advertising spend for the upcoming tourist season. RADC is an expert in this area and would like to help them out with our expertise in the Data & Analytics area.  \n",
    "\n",
    "The project follows the follow steps:\n",
    "* Step 1: Scope the Project and Gather Data\n",
    "* Step 2: Explore and Assess the Data\n",
    "* Step 3: Define the Data Model\n",
    "* Step 4: Run ETL to Model the Data\n",
    "* Step 5: Complete Project Write Up"
   ]
  },
  {
   "cell_type": "code",
   "execution_count": 7,
   "metadata": {
    "editable": true
   },
   "outputs": [],
   "source": [
    "# Do all imports and installs here\n",
    "import pandas as pd"
   ]
  },
  {
   "cell_type": "raw",
   "metadata": {
    "editable": true
   },
   "source": [
    "### Step 1: Scope the Project and Gather Data\n",
    "\n",
    "#### Scope \n",
    "Explain what you plan to do in the project in more detail. What data do you use? What is your end solution look like? What tools did you use? etc>\n",
    "We will be reading 2 files - immigration_data_sample.csv and us-cities-demograpgics.csv from S3. Once we have read the 2 files, we will perform Exploratory Data Analysis to review the data and file contents(using the describe function for review). We will then create fact & dimensions table from the data and perform data quality checks once the files are loaded in Redshift. These tables will be available in Redshift for the USATM team to utilise for further insights.   \n",
    "\n",
    "#### Describe and Gather Data \n",
    "Describe the data sets you're using. Where did it come from? What type of information is included? \n",
    "I will be using the udacity provided data sets - immigration_data_sample.csv & us-cities-demographics.csv. Immigration data set contains the list of all inflow to the USA via different modes of transport for a certain period. Other CSV with US cities demographics has resident demographic information for each city in the USA. "
   ]
  },
  {
   "cell_type": "code",
   "execution_count": 11,
   "metadata": {
    "editable": true
   },
   "outputs": [
    {
     "name": "stdout",
     "output_type": "stream",
     "text": [
      "First 5 rows\n"
     ]
    },
    {
     "data": {
      "text/html": [
       "<div>\n",
       "<style scoped>\n",
       "    .dataframe tbody tr th:only-of-type {\n",
       "        vertical-align: middle;\n",
       "    }\n",
       "\n",
       "    .dataframe tbody tr th {\n",
       "        vertical-align: top;\n",
       "    }\n",
       "\n",
       "    .dataframe thead th {\n",
       "        text-align: right;\n",
       "    }\n",
       "</style>\n",
       "<table border=\"1\" class=\"dataframe\">\n",
       "  <thead>\n",
       "    <tr style=\"text-align: right;\">\n",
       "      <th></th>\n",
       "      <th>Unnamed: 0</th>\n",
       "      <th>cicid</th>\n",
       "      <th>i94yr</th>\n",
       "      <th>i94mon</th>\n",
       "      <th>i94cit</th>\n",
       "      <th>i94res</th>\n",
       "      <th>i94port</th>\n",
       "      <th>arrdate</th>\n",
       "      <th>i94mode</th>\n",
       "      <th>i94addr</th>\n",
       "      <th>...</th>\n",
       "      <th>entdepu</th>\n",
       "      <th>matflag</th>\n",
       "      <th>biryear</th>\n",
       "      <th>dtaddto</th>\n",
       "      <th>gender</th>\n",
       "      <th>insnum</th>\n",
       "      <th>airline</th>\n",
       "      <th>admnum</th>\n",
       "      <th>fltno</th>\n",
       "      <th>visatype</th>\n",
       "    </tr>\n",
       "  </thead>\n",
       "  <tbody>\n",
       "    <tr>\n",
       "      <th>0</th>\n",
       "      <td>2027561</td>\n",
       "      <td>4084316.000000000</td>\n",
       "      <td>2016.000000000</td>\n",
       "      <td>4.000000000</td>\n",
       "      <td>209.000000000</td>\n",
       "      <td>209.000000000</td>\n",
       "      <td>HHW</td>\n",
       "      <td>20566.000000000</td>\n",
       "      <td>1.000000000</td>\n",
       "      <td>HI</td>\n",
       "      <td>...</td>\n",
       "      <td>nan</td>\n",
       "      <td>M</td>\n",
       "      <td>1955.000000000</td>\n",
       "      <td>07202016</td>\n",
       "      <td>F</td>\n",
       "      <td>nan</td>\n",
       "      <td>JL</td>\n",
       "      <td>56582674633.000000000</td>\n",
       "      <td>00782</td>\n",
       "      <td>WT</td>\n",
       "    </tr>\n",
       "    <tr>\n",
       "      <th>1</th>\n",
       "      <td>2171295</td>\n",
       "      <td>4422636.000000000</td>\n",
       "      <td>2016.000000000</td>\n",
       "      <td>4.000000000</td>\n",
       "      <td>582.000000000</td>\n",
       "      <td>582.000000000</td>\n",
       "      <td>MCA</td>\n",
       "      <td>20567.000000000</td>\n",
       "      <td>1.000000000</td>\n",
       "      <td>TX</td>\n",
       "      <td>...</td>\n",
       "      <td>nan</td>\n",
       "      <td>M</td>\n",
       "      <td>1990.000000000</td>\n",
       "      <td>10222016</td>\n",
       "      <td>M</td>\n",
       "      <td>nan</td>\n",
       "      <td>*GA</td>\n",
       "      <td>94361995930.000000000</td>\n",
       "      <td>XBLNG</td>\n",
       "      <td>B2</td>\n",
       "    </tr>\n",
       "    <tr>\n",
       "      <th>2</th>\n",
       "      <td>589494</td>\n",
       "      <td>1195600.000000000</td>\n",
       "      <td>2016.000000000</td>\n",
       "      <td>4.000000000</td>\n",
       "      <td>148.000000000</td>\n",
       "      <td>112.000000000</td>\n",
       "      <td>OGG</td>\n",
       "      <td>20551.000000000</td>\n",
       "      <td>1.000000000</td>\n",
       "      <td>FL</td>\n",
       "      <td>...</td>\n",
       "      <td>nan</td>\n",
       "      <td>M</td>\n",
       "      <td>1940.000000000</td>\n",
       "      <td>07052016</td>\n",
       "      <td>M</td>\n",
       "      <td>nan</td>\n",
       "      <td>LH</td>\n",
       "      <td>55780468433.000000000</td>\n",
       "      <td>00464</td>\n",
       "      <td>WT</td>\n",
       "    </tr>\n",
       "    <tr>\n",
       "      <th>3</th>\n",
       "      <td>2631158</td>\n",
       "      <td>5291768.000000000</td>\n",
       "      <td>2016.000000000</td>\n",
       "      <td>4.000000000</td>\n",
       "      <td>297.000000000</td>\n",
       "      <td>297.000000000</td>\n",
       "      <td>LOS</td>\n",
       "      <td>20572.000000000</td>\n",
       "      <td>1.000000000</td>\n",
       "      <td>CA</td>\n",
       "      <td>...</td>\n",
       "      <td>nan</td>\n",
       "      <td>M</td>\n",
       "      <td>1991.000000000</td>\n",
       "      <td>10272016</td>\n",
       "      <td>M</td>\n",
       "      <td>nan</td>\n",
       "      <td>QR</td>\n",
       "      <td>94789696030.000000000</td>\n",
       "      <td>00739</td>\n",
       "      <td>B2</td>\n",
       "    </tr>\n",
       "    <tr>\n",
       "      <th>4</th>\n",
       "      <td>3032257</td>\n",
       "      <td>985523.000000000</td>\n",
       "      <td>2016.000000000</td>\n",
       "      <td>4.000000000</td>\n",
       "      <td>111.000000000</td>\n",
       "      <td>111.000000000</td>\n",
       "      <td>CHM</td>\n",
       "      <td>20550.000000000</td>\n",
       "      <td>3.000000000</td>\n",
       "      <td>NY</td>\n",
       "      <td>...</td>\n",
       "      <td>nan</td>\n",
       "      <td>M</td>\n",
       "      <td>1997.000000000</td>\n",
       "      <td>07042016</td>\n",
       "      <td>F</td>\n",
       "      <td>nan</td>\n",
       "      <td>NaN</td>\n",
       "      <td>42322572633.000000000</td>\n",
       "      <td>LAND</td>\n",
       "      <td>WT</td>\n",
       "    </tr>\n",
       "  </tbody>\n",
       "</table>\n",
       "<p>5 rows × 29 columns</p>\n",
       "</div>"
      ],
      "text/plain": [
       "   Unnamed: 0             cicid          i94yr      i94mon        i94cit  \\\n",
       "0     2027561 4084316.000000000 2016.000000000 4.000000000 209.000000000   \n",
       "1     2171295 4422636.000000000 2016.000000000 4.000000000 582.000000000   \n",
       "2      589494 1195600.000000000 2016.000000000 4.000000000 148.000000000   \n",
       "3     2631158 5291768.000000000 2016.000000000 4.000000000 297.000000000   \n",
       "4     3032257  985523.000000000 2016.000000000 4.000000000 111.000000000   \n",
       "\n",
       "         i94res i94port         arrdate     i94mode i94addr    ...     \\\n",
       "0 209.000000000     HHW 20566.000000000 1.000000000      HI    ...      \n",
       "1 582.000000000     MCA 20567.000000000 1.000000000      TX    ...      \n",
       "2 112.000000000     OGG 20551.000000000 1.000000000      FL    ...      \n",
       "3 297.000000000     LOS 20572.000000000 1.000000000      CA    ...      \n",
       "4 111.000000000     CHM 20550.000000000 3.000000000      NY    ...      \n",
       "\n",
       "   entdepu  matflag        biryear   dtaddto  gender insnum airline  \\\n",
       "0      nan        M 1955.000000000  07202016       F    nan      JL   \n",
       "1      nan        M 1990.000000000  10222016       M    nan     *GA   \n",
       "2      nan        M 1940.000000000  07052016       M    nan      LH   \n",
       "3      nan        M 1991.000000000  10272016       M    nan      QR   \n",
       "4      nan        M 1997.000000000  07042016       F    nan     NaN   \n",
       "\n",
       "                 admnum  fltno  visatype  \n",
       "0 56582674633.000000000  00782        WT  \n",
       "1 94361995930.000000000  XBLNG        B2  \n",
       "2 55780468433.000000000  00464        WT  \n",
       "3 94789696030.000000000  00739        B2  \n",
       "4 42322572633.000000000   LAND        WT  \n",
       "\n",
       "[5 rows x 29 columns]"
      ]
     },
     "execution_count": 11,
     "metadata": {},
     "output_type": "execute_result"
    }
   ],
   "source": [
    "# Read in the data here from S3 bucket\n",
    "fname = 'immigration_data_sample.csv'\n",
    "df = pd.read_csv(fname)\n",
    "\n",
    "#Use Describe function to check basics of the data set. \n",
    "#Initial EDA Reveals: \n",
    "#Records are from Year 2016\n",
    "#1000 records in the file\n",
    "#Data is for the month of April\n",
    "#75% arrivals are by Air\n",
    "#Majority of passengers are travelling for 'Pleasure' \n",
    "#Average age of travellers is 43, Oldest passenger is 93, Youngest is 1 year old.\n",
    "#df.describe()\n",
    "print(\"First 5 rows\")\n",
    "df.head(5)"
   ]
  },
  {
   "cell_type": "code",
   "execution_count": 12,
   "metadata": {
    "editable": true
   },
   "outputs": [
    {
     "name": "stdout",
     "output_type": "stream",
     "text": [
      "Print information, shape, and data type for the data frame\n",
      "<class 'pandas.core.frame.DataFrame'>\n",
      "RangeIndex: 1000 entries, 0 to 999\n",
      "Data columns (total 29 columns):\n",
      "Unnamed: 0    1000 non-null int64\n",
      "cicid         1000 non-null float64\n",
      "i94yr         1000 non-null float64\n",
      "i94mon        1000 non-null float64\n",
      "i94cit        1000 non-null float64\n",
      "i94res        1000 non-null float64\n",
      "i94port       1000 non-null object\n",
      "arrdate       1000 non-null float64\n",
      "i94mode       1000 non-null float64\n",
      "i94addr       941 non-null object\n",
      "depdate       951 non-null float64\n",
      "i94bir        1000 non-null float64\n",
      "i94visa       1000 non-null float64\n",
      "count         1000 non-null float64\n",
      "dtadfile      1000 non-null int64\n",
      "visapost      382 non-null object\n",
      "occup         4 non-null object\n",
      "entdepa       1000 non-null object\n",
      "entdepd       954 non-null object\n",
      "entdepu       0 non-null float64\n",
      "matflag       954 non-null object\n",
      "biryear       1000 non-null float64\n",
      "dtaddto       1000 non-null object\n",
      "gender        859 non-null object\n",
      "insnum        35 non-null float64\n",
      "airline       967 non-null object\n",
      "admnum        1000 non-null float64\n",
      "fltno         992 non-null object\n",
      "visatype      1000 non-null object\n",
      "dtypes: float64(15), int64(2), object(12)\n",
      "memory usage: 226.6+ KB\n"
     ]
    }
   ],
   "source": [
    "print(\"Print information, shape, and data type for the data frame\")\n",
    "df.info()"
   ]
  },
  {
   "cell_type": "code",
   "execution_count": 28,
   "metadata": {
    "editable": true
   },
   "outputs": [
    {
     "data": {
      "text/html": [
       "<div>\n",
       "<style scoped>\n",
       "    .dataframe tbody tr th:only-of-type {\n",
       "        vertical-align: middle;\n",
       "    }\n",
       "\n",
       "    .dataframe tbody tr th {\n",
       "        vertical-align: top;\n",
       "    }\n",
       "\n",
       "    .dataframe thead th {\n",
       "        text-align: right;\n",
       "    }\n",
       "</style>\n",
       "<table border=\"1\" class=\"dataframe\">\n",
       "  <thead>\n",
       "    <tr style=\"text-align: right;\">\n",
       "      <th></th>\n",
       "      <th>Median Age</th>\n",
       "      <th>Male Population</th>\n",
       "      <th>Female Population</th>\n",
       "      <th>Total Population</th>\n",
       "      <th>Number of Veterans</th>\n",
       "      <th>Foreign-born</th>\n",
       "      <th>Average Household Size</th>\n",
       "      <th>Count</th>\n",
       "    </tr>\n",
       "  </thead>\n",
       "  <tbody>\n",
       "    <tr>\n",
       "      <th>count</th>\n",
       "      <td>2891.000000000</td>\n",
       "      <td>2888.000000000</td>\n",
       "      <td>2888.000000000</td>\n",
       "      <td>2891.000000000</td>\n",
       "      <td>2878.000000000</td>\n",
       "      <td>2878.000000000</td>\n",
       "      <td>2875.000000000</td>\n",
       "      <td>2891.000000000</td>\n",
       "    </tr>\n",
       "    <tr>\n",
       "      <th>mean</th>\n",
       "      <td>35.494880664</td>\n",
       "      <td>97328.426246537</td>\n",
       "      <td>101769.630886427</td>\n",
       "      <td>198966.779315116</td>\n",
       "      <td>9367.832522585</td>\n",
       "      <td>40653.598679639</td>\n",
       "      <td>2.742542609</td>\n",
       "      <td>48963.774472501</td>\n",
       "    </tr>\n",
       "    <tr>\n",
       "      <th>std</th>\n",
       "      <td>4.401616730</td>\n",
       "      <td>216299.936928733</td>\n",
       "      <td>231564.572571483</td>\n",
       "      <td>447555.929633590</td>\n",
       "      <td>13211.219923864</td>\n",
       "      <td>155749.103665098</td>\n",
       "      <td>0.433291088</td>\n",
       "      <td>144385.588564606</td>\n",
       "    </tr>\n",
       "    <tr>\n",
       "      <th>min</th>\n",
       "      <td>22.900000000</td>\n",
       "      <td>29281.000000000</td>\n",
       "      <td>27348.000000000</td>\n",
       "      <td>63215.000000000</td>\n",
       "      <td>416.000000000</td>\n",
       "      <td>861.000000000</td>\n",
       "      <td>2.000000000</td>\n",
       "      <td>98.000000000</td>\n",
       "    </tr>\n",
       "    <tr>\n",
       "      <th>25%</th>\n",
       "      <td>32.800000000</td>\n",
       "      <td>39289.000000000</td>\n",
       "      <td>41227.000000000</td>\n",
       "      <td>80429.000000000</td>\n",
       "      <td>3739.000000000</td>\n",
       "      <td>9224.000000000</td>\n",
       "      <td>2.430000000</td>\n",
       "      <td>3435.000000000</td>\n",
       "    </tr>\n",
       "    <tr>\n",
       "      <th>50%</th>\n",
       "      <td>35.300000000</td>\n",
       "      <td>52341.000000000</td>\n",
       "      <td>53809.000000000</td>\n",
       "      <td>106782.000000000</td>\n",
       "      <td>5397.000000000</td>\n",
       "      <td>18822.000000000</td>\n",
       "      <td>2.650000000</td>\n",
       "      <td>13780.000000000</td>\n",
       "    </tr>\n",
       "    <tr>\n",
       "      <th>75%</th>\n",
       "      <td>38.000000000</td>\n",
       "      <td>86641.750000000</td>\n",
       "      <td>89604.000000000</td>\n",
       "      <td>175232.000000000</td>\n",
       "      <td>9368.000000000</td>\n",
       "      <td>33971.750000000</td>\n",
       "      <td>2.950000000</td>\n",
       "      <td>54447.000000000</td>\n",
       "    </tr>\n",
       "    <tr>\n",
       "      <th>max</th>\n",
       "      <td>70.500000000</td>\n",
       "      <td>4081698.000000000</td>\n",
       "      <td>4468707.000000000</td>\n",
       "      <td>8550405.000000000</td>\n",
       "      <td>156961.000000000</td>\n",
       "      <td>3212500.000000000</td>\n",
       "      <td>4.980000000</td>\n",
       "      <td>3835726.000000000</td>\n",
       "    </tr>\n",
       "  </tbody>\n",
       "</table>\n",
       "</div>"
      ],
      "text/plain": [
       "          Median Age   Male Population  Female Population  Total Population  \\\n",
       "count 2891.000000000    2888.000000000     2888.000000000    2891.000000000   \n",
       "mean    35.494880664   97328.426246537   101769.630886427  198966.779315116   \n",
       "std      4.401616730  216299.936928733   231564.572571483  447555.929633590   \n",
       "min     22.900000000   29281.000000000    27348.000000000   63215.000000000   \n",
       "25%     32.800000000   39289.000000000    41227.000000000   80429.000000000   \n",
       "50%     35.300000000   52341.000000000    53809.000000000  106782.000000000   \n",
       "75%     38.000000000   86641.750000000    89604.000000000  175232.000000000   \n",
       "max     70.500000000 4081698.000000000  4468707.000000000 8550405.000000000   \n",
       "\n",
       "       Number of Veterans      Foreign-born  Average Household Size  \\\n",
       "count      2878.000000000    2878.000000000          2875.000000000   \n",
       "mean       9367.832522585   40653.598679639             2.742542609   \n",
       "std       13211.219923864  155749.103665098             0.433291088   \n",
       "min         416.000000000     861.000000000             2.000000000   \n",
       "25%        3739.000000000    9224.000000000             2.430000000   \n",
       "50%        5397.000000000   18822.000000000             2.650000000   \n",
       "75%        9368.000000000   33971.750000000             2.950000000   \n",
       "max      156961.000000000 3212500.000000000             4.980000000   \n",
       "\n",
       "                  Count  \n",
       "count    2891.000000000  \n",
       "mean    48963.774472501  \n",
       "std    144385.588564606  \n",
       "min        98.000000000  \n",
       "25%      3435.000000000  \n",
       "50%     13780.000000000  \n",
       "75%     54447.000000000  \n",
       "max   3835726.000000000  "
      ]
     },
     "execution_count": 28,
     "metadata": {},
     "output_type": "execute_result"
    }
   ],
   "source": [
    "#Read file from a S3 Bucket\n",
    "fname = 'us-cities-demographics.csv'\n",
    "df1 = pd.read_csv(fname, delimiter=';')\n",
    "\n",
    "#Use this function to convert data with scientific notation to float\n",
    "pd.set_option('display.float_format', lambda x: '%.9f' % x)\n",
    "\n",
    "#Use Describe function to check basics of the data set but first.\n",
    "#Initial EDA Reveals: \n",
    "#Total records is 2891\n",
    "#Average age of regidents in the file is 35\n",
    "#Max male population is 4.08 million\n",
    "#Max female population is 4.5 million\n",
    "#Total population is 8.56 million\n",
    "#On average there are 9370 veterans across US cities\n",
    "#Across cities in the US - 40,653 residents are foreign-born\n",
    "df1.describe()\n",
    "#df1.head()"
   ]
  },
  {
   "cell_type": "code",
   "execution_count": 13,
   "metadata": {
    "editable": true
   },
   "outputs": [
    {
     "name": "stdout",
     "output_type": "stream",
     "text": [
      "Print information, shape, and data type for the data frame\n",
      "<class 'pandas.core.frame.DataFrame'>\n",
      "RangeIndex: 2891 entries, 0 to 2890\n",
      "Data columns (total 12 columns):\n",
      "City                      2891 non-null object\n",
      "State                     2891 non-null object\n",
      "Median Age                2891 non-null float64\n",
      "Male Population           2888 non-null float64\n",
      "Female Population         2888 non-null float64\n",
      "Total Population          2891 non-null int64\n",
      "Number of Veterans        2878 non-null float64\n",
      "Foreign-born              2878 non-null float64\n",
      "Average Household Size    2875 non-null float64\n",
      "State Code                2891 non-null object\n",
      "Race                      2891 non-null object\n",
      "Count                     2891 non-null int64\n",
      "dtypes: float64(6), int64(2), object(4)\n",
      "memory usage: 271.1+ KB\n"
     ]
    }
   ],
   "source": [
    "print(\"Print information, shape, and data type for the data frame\")\n",
    "df1.info()"
   ]
  },
  {
   "cell_type": "code",
   "execution_count": 19,
   "metadata": {
    "editable": true
   },
   "outputs": [],
   "source": [
    "#from pyspark.sql import SparkSession\n",
    "#spark = SparkSession.builder.\\\n",
    "#config(\"spark.jars.packages\",\"saurfang:spark-sas7bdat:2.0.0-s_2.11,org.apache.hadoop:hadoop-aws:2.7.2\")\\\n",
    "#.enableHiveSupport().getOrCreate()\n"
   ]
  },
  {
   "cell_type": "code",
   "execution_count": 20,
   "metadata": {
    "editable": true
   },
   "outputs": [],
   "source": [
    "#df_spark =spark.read.format('com.github.saurfang.sas.spark').load('../../data/18-83510-I94-Data-2016/i94_apr16_sub.sas7bdat')"
   ]
  },
  {
   "cell_type": "code",
   "execution_count": 32,
   "metadata": {
    "editable": true
   },
   "outputs": [],
   "source": [
    "#df_filter = df_spark[(df_spark.visatype)=='B1']\n",
    "#df_filter.head()\n",
    "#Check distinct visa types to check if there are any nulls as this would be used to draw metrics on immigrant type\n",
    "#df_spark.select('visatype').distinct().show()\n",
    "#print(\"LUND\")"
   ]
  },
  {
   "cell_type": "code",
   "execution_count": null,
   "metadata": {
    "editable": true
   },
   "outputs": [],
   "source": [
    "#df_spark.select('State Code').distinct().show()"
   ]
  },
  {
   "cell_type": "markdown",
   "metadata": {
    "editable": true
   },
   "source": [
    "### Step 2: Explore and Assess the Data\n",
    "#### Explore the Data \n",
    "Identify data quality issues, like missing values, duplicate data, etc.\n",
    "\n",
    "#### Cleaning Steps\n",
    "Document steps necessary to clean the data"
   ]
  },
  {
   "cell_type": "code",
   "execution_count": 16,
   "metadata": {
    "editable": true
   },
   "outputs": [
    {
     "data": {
      "text/plain": [
       "Unnamed: 0       0\n",
       "cicid            0\n",
       "i94yr            0\n",
       "i94mon           0\n",
       "i94cit           0\n",
       "i94res           0\n",
       "i94port          0\n",
       "arrdate          0\n",
       "i94mode          0\n",
       "i94addr         59\n",
       "depdate         49\n",
       "i94bir           0\n",
       "i94visa          0\n",
       "count            0\n",
       "dtadfile         0\n",
       "visapost       618\n",
       "occup          996\n",
       "entdepa          0\n",
       "entdepd         46\n",
       "entdepu       1000\n",
       "matflag         46\n",
       "biryear          0\n",
       "dtaddto          0\n",
       "gender         141\n",
       "insnum         965\n",
       "airline         33\n",
       "admnum           0\n",
       "fltno            8\n",
       "visatype         0\n",
       "dtype: int64"
      ]
     },
     "execution_count": 16,
     "metadata": {},
     "output_type": "execute_result"
    }
   ],
   "source": [
    "#Count unique values in immigration dataframe\n",
    "df.nunique()"
   ]
  },
  {
   "cell_type": "code",
   "execution_count": 17,
   "metadata": {
    "editable": true
   },
   "outputs": [
    {
     "data": {
      "text/plain": [
       "Unnamed: 0       0\n",
       "cicid            0\n",
       "i94yr            0\n",
       "i94mon           0\n",
       "i94cit           0\n",
       "i94res           0\n",
       "i94port          0\n",
       "arrdate          0\n",
       "i94mode          0\n",
       "i94addr         59\n",
       "depdate         49\n",
       "i94bir           0\n",
       "i94visa          0\n",
       "count            0\n",
       "dtadfile         0\n",
       "visapost       618\n",
       "occup          996\n",
       "entdepa          0\n",
       "entdepd         46\n",
       "entdepu       1000\n",
       "matflag         46\n",
       "biryear          0\n",
       "dtaddto          0\n",
       "gender         141\n",
       "insnum         965\n",
       "airline         33\n",
       "admnum           0\n",
       "fltno            8\n",
       "visatype         0\n",
       "dtype: int64"
      ]
     },
     "execution_count": 17,
     "metadata": {},
     "output_type": "execute_result"
    }
   ],
   "source": [
    "# Checking if any rows in the immigration data frame have missing data\n",
    "df.isnull().sum()"
   ]
  },
  {
   "cell_type": "code",
   "execution_count": 25,
   "metadata": {
    "editable": true
   },
   "outputs": [
    {
     "data": {
      "text/plain": [
       "Unnamed: 0       0\n",
       "cicid            0\n",
       "i94yr            0\n",
       "i94mon           0\n",
       "i94cit           0\n",
       "i94res           0\n",
       "i94port          0\n",
       "arrdate          0\n",
       "i94mode          0\n",
       "i94addr          0\n",
       "depdate          0\n",
       "i94bir           0\n",
       "i94visa          0\n",
       "count            0\n",
       "dtadfile         0\n",
       "visapost         0\n",
       "occup            0\n",
       "entdepa          0\n",
       "entdepd         46\n",
       "entdepu       1000\n",
       "matflag         46\n",
       "biryear          0\n",
       "dtaddto          0\n",
       "gender           0\n",
       "insnum         965\n",
       "airline          0\n",
       "admnum           0\n",
       "fltno            8\n",
       "visatype         0\n",
       "dtype: int64"
      ]
     },
     "execution_count": 25,
     "metadata": {},
     "output_type": "execute_result"
    }
   ],
   "source": [
    "# Fill NaN with a blank space\n",
    "df['i94addr'] = df['i94addr'].fillna(' ')\n",
    "df['depdate'] = df['depdate'].fillna(' ')\n",
    "df['visapost'] = df['visapost'].fillna(' ')\n",
    "df['occup'] = df['occup'].fillna(' ')\n",
    "df['gender'] = df['gender'].fillna(' ')\n",
    "df['airline'] = df['airline'].fillna(' ')\n",
    "df.isnull().sum()"
   ]
  },
  {
   "cell_type": "code",
   "execution_count": 21,
   "metadata": {
    "editable": true
   },
   "outputs": [
    {
     "name": "stdout",
     "output_type": "stream",
     "text": [
      "0      False\n",
      "1      False\n",
      "2      False\n",
      "3      False\n",
      "4      False\n",
      "5      False\n",
      "6      False\n",
      "7      False\n",
      "8      False\n",
      "9      False\n",
      "10     False\n",
      "11     False\n",
      "12     False\n",
      "13     False\n",
      "14     False\n",
      "15     False\n",
      "16     False\n",
      "17     False\n",
      "18     False\n",
      "19     False\n",
      "20     False\n",
      "21     False\n",
      "22     False\n",
      "23     False\n",
      "24     False\n",
      "25     False\n",
      "26     False\n",
      "27     False\n",
      "28     False\n",
      "29     False\n",
      "       ...  \n",
      "970    False\n",
      "971    False\n",
      "972    False\n",
      "973    False\n",
      "974    False\n",
      "975    False\n",
      "976    False\n",
      "977    False\n",
      "978    False\n",
      "979    False\n",
      "980    False\n",
      "981    False\n",
      "982    False\n",
      "983    False\n",
      "984    False\n",
      "985    False\n",
      "986    False\n",
      "987    False\n",
      "988    False\n",
      "989    False\n",
      "990    False\n",
      "991    False\n",
      "992    False\n",
      "993    False\n",
      "994    False\n",
      "995    False\n",
      "996    False\n",
      "997    False\n",
      "998    False\n",
      "999    False\n",
      "Length: 1000, dtype: bool\n"
     ]
    }
   ],
   "source": [
    "#Check for duplicated data\n",
    "bool_series = df.duplicated()\n",
    "print(bool_series)"
   ]
  },
  {
   "cell_type": "code",
   "execution_count": 15,
   "metadata": {
    "editable": true
   },
   "outputs": [
    {
     "data": {
      "text/plain": [
       "City                       567\n",
       "State                       49\n",
       "Median Age                 180\n",
       "Male Population            593\n",
       "Female Population          594\n",
       "Total Population           594\n",
       "Number of Veterans         577\n",
       "Foreign-born               587\n",
       "Average Household Size     161\n",
       "State Code                  49\n",
       "Race                         5\n",
       "Count                     2785\n",
       "dtype: int64"
      ]
     },
     "execution_count": 15,
     "metadata": {},
     "output_type": "execute_result"
    }
   ],
   "source": [
    "#Count unique values in US Cities dataframe\n",
    "df1.nunique()"
   ]
  },
  {
   "cell_type": "code",
   "execution_count": 26,
   "metadata": {
    "editable": true
   },
   "outputs": [
    {
     "data": {
      "text/plain": [
       "City                       0\n",
       "State                      0\n",
       "Median Age                 0\n",
       "Male Population            3\n",
       "Female Population          3\n",
       "Total Population           0\n",
       "Number of Veterans        13\n",
       "Foreign-born              13\n",
       "Average Household Size    16\n",
       "State Code                 0\n",
       "Race                       0\n",
       "Count                      0\n",
       "dtype: int64"
      ]
     },
     "execution_count": 26,
     "metadata": {},
     "output_type": "execute_result"
    }
   ],
   "source": [
    "# Checking if any rows in the us cities demographics data frame have missing data\n",
    "df1.isnull().sum()"
   ]
  },
  {
   "cell_type": "code",
   "execution_count": 31,
   "metadata": {
    "editable": true
   },
   "outputs": [
    {
     "data": {
      "text/plain": [
       "City                      0\n",
       "State                     0\n",
       "Median Age                0\n",
       "Male Population           0\n",
       "Female Population         0\n",
       "Total Population          0\n",
       "Number of Veterans        0\n",
       "Foreign-born              0\n",
       "Average Household Size    0\n",
       "State Code                0\n",
       "Race                      0\n",
       "Count                     0\n",
       "dtype: int64"
      ]
     },
     "execution_count": 31,
     "metadata": {},
     "output_type": "execute_result"
    }
   ],
   "source": [
    "# Fill NaN with a mean value\n",
    "df1['Male Population'] = df1['Male Population'].fillna(df1['Male Population'].mean())\n",
    "df1['Female Population'] = df1['Female Population'].fillna(df1['Female Population'].mean())\n",
    "df1['Number of Veterans'] = df1['Number of Veterans'].fillna(df1['Number of Veterans'].mean())\n",
    "df1['Average Household Size'] = df1['Average Household Size'].fillna(df1['Average Household Size'].mean())\n",
    "df1['Foreign-born'] = df1['Foreign-born'].fillna(df1['Foreign-born'].mean())\n",
    "df1.isnull().sum()"
   ]
  },
  {
   "cell_type": "markdown",
   "metadata": {
    "editable": true
   },
   "source": [
    "### Step 3: Define the Data Model\n",
    "#### 3.1 Conceptual Data Model\n",
    "Map out the conceptual data model and explain why you chose that model\n",
    "\n",
    "#### 3.2 Mapping Out Data Pipelines\n",
    "List the steps necessary to pipeline the data into the chosen data model"
   ]
  },
  {
   "cell_type": "markdown",
   "metadata": {
    "editable": true
   },
   "source": [
    "### Step 4: Run Pipelines to Model the Data \n",
    "#### 4.1 Create the data model\n",
    "Build the data pipelines to create the data model."
   ]
  },
  {
   "cell_type": "code",
   "execution_count": null,
   "metadata": {
    "editable": true
   },
   "outputs": [],
   "source": [
    "# Write code here"
   ]
  },
  {
   "cell_type": "markdown",
   "metadata": {
    "editable": true
   },
   "source": [
    "#### 4.2 Data Quality Checks\n",
    "Explain the data quality checks you'll perform to ensure the pipeline ran as expected. These could include:\n",
    " * Integrity constraints on the relational database (e.g., unique key, data type, etc.)\n",
    " * Unit tests for the scripts to ensure they are doing the right thing\n",
    " * Source/Count checks to ensure completeness\n",
    " \n",
    "Run Quality Checks"
   ]
  },
  {
   "cell_type": "code",
   "execution_count": null,
   "metadata": {
    "editable": true
   },
   "outputs": [],
   "source": [
    "# Perform quality checks here"
   ]
  },
  {
   "cell_type": "markdown",
   "metadata": {
    "editable": true
   },
   "source": [
    "#### 4.3 Data dictionary \n",
    "Create a data dictionary for your data model. For each field, provide a brief description of what the data is and where it came from. You can include the data dictionary in the notebook or in a separate file."
   ]
  },
  {
   "cell_type": "markdown",
   "metadata": {
    "editable": true
   },
   "source": [
    "#### Step 5: Complete Project Write Up\n",
    "* Clearly state the rationale for the choice of tools and technologies for the project.\n",
    "* Propose how often the data should be updated and why.\n",
    "* Write a description of how you would approach the problem differently under the following scenarios:\n",
    " * The data was increased by 100x.\n",
    " * The data populates a dashboard that must be updated on a daily basis by 7am every day.\n",
    " * The database needed to be accessed by 100+ people."
   ]
  },
  {
   "cell_type": "code",
   "execution_count": null,
   "metadata": {
    "editable": true
   },
   "outputs": [],
   "source": []
  },
  {
   "cell_type": "code",
   "execution_count": null,
   "metadata": {
    "editable": true
   },
   "outputs": [],
   "source": []
  },
  {
   "cell_type": "code",
   "execution_count": null,
   "metadata": {
    "editable": true
   },
   "outputs": [],
   "source": []
  },
  {
   "cell_type": "code",
   "execution_count": null,
   "metadata": {
    "editable": true
   },
   "outputs": [],
   "source": []
  },
  {
   "cell_type": "code",
   "execution_count": null,
   "metadata": {
    "editable": true
   },
   "outputs": [],
   "source": []
  },
  {
   "cell_type": "code",
   "execution_count": null,
   "metadata": {
    "editable": true
   },
   "outputs": [],
   "source": []
  }
 ],
 "metadata": {
  "kernelspec": {
   "display_name": "Python 3",
   "language": "python",
   "name": "python3"
  },
  "language_info": {
   "codemirror_mode": {
    "name": "ipython",
    "version": 3
   },
   "file_extension": ".py",
   "mimetype": "text/x-python",
   "name": "python",
   "nbconvert_exporter": "python",
   "pygments_lexer": "ipython3",
   "version": "3.6.3"
  }
 },
 "nbformat": 4,
 "nbformat_minor": 4
}
