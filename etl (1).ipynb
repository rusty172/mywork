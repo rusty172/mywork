{
 "cells": [
  {
   "cell_type": "markdown",
   "metadata": {
    "editable": true
   },
   "source": [
    "# ETL Processes\n",
    "Use this notebook to develop the ETL process for each of your tables before completing the `etl.py` file to load the whole datasets."
   ]
  },
  {
   "cell_type": "code",
   "execution_count": 1,
   "metadata": {
    "editable": true
   },
   "outputs": [],
   "source": [
    "import os\n",
    "import glob\n",
    "import psycopg2\n",
    "import pandas as pd\n",
    "import numpy as np\n",
    "#from sql_queries import *\n",
    "from datetime import datetime"
   ]
  },
  {
   "cell_type": "code",
   "execution_count": 2,
   "metadata": {
    "editable": true
   },
   "outputs": [],
   "source": [
    "#cur.execute(\"DROP DATABASE IF EXISTS sparkifydb\")\n",
    "#cur.execute(\"CREATE DATABASE sparkifydb WITH ENCODING 'utf8' TEMPLATE template0\")\n",
    "#conn = psycopg2.connect(\"host=127.0.0.1 dbname=sparkifydb user=student password=student\")\n",
    "#cur = conn.cursor()\n",
    "\n",
    " # connect to default database\n",
    "conn = psycopg2.connect(\"host=127.0.0.1 dbname=studentdb user=student password=student\")\n",
    "conn.set_session(autocommit=True)\n",
    "cur = conn.cursor()\n",
    "    \n",
    "    # create sparkify database with UTF8 encoding\n",
    "cur.execute(\"DROP DATABASE IF EXISTS sparkifydb\")\n",
    "cur.execute(\"CREATE DATABASE sparkifydb WITH ENCODING 'utf8' TEMPLATE template0\")\n",
    "\n",
    "    # close connection to default database\n",
    "conn.close()    \n",
    "    \n",
    "    # connect to sparkify database\n",
    "conn = psycopg2.connect(\"host=127.0.0.1 dbname=sparkifydb user=student password=student\")\n",
    "cur = conn.cursor()\n",
    "    "
   ]
  },
  {
   "cell_type": "code",
   "execution_count": 3,
   "metadata": {
    "editable": true
   },
   "outputs": [],
   "source": [
    "def get_files(filepath):\n",
    "    all_files = []\n",
    "    for root, dirs, files in os.walk(filepath):\n",
    "        files = glob.glob(os.path.join(root,'*.json'))\n",
    "        \n",
    "        for f in files :\n",
    "            all_files.append(os.path.abspath(f))\n",
    "    \n",
    "    return all_files"
   ]
  },
  {
   "cell_type": "markdown",
   "metadata": {
    "editable": true
   },
   "source": [
    "# Process `song_data`\n",
    "In this first part, you'll perform ETL on the first dataset, `song_data`, to create the `songs` and `artists` dimensional tables.\n",
    "\n",
    "Let's perform ETL on a single song file and load a single record into each table to start.\n",
    "- Use the `get_files` function provided above to get a list of all song JSON files in `data/song_data`\n",
    "- Select the first song in this list\n",
    "- Read the song file and view the data"
   ]
  },
  {
   "cell_type": "code",
   "execution_count": 4,
   "metadata": {
    "editable": true
   },
   "outputs": [],
   "source": [
    "song_files = get_files('data/song_data/A')\n"
   ]
  },
  {
   "cell_type": "code",
   "execution_count": 5,
   "metadata": {
    "editable": true
   },
   "outputs": [],
   "source": [
    "filepath = song_files[0]"
   ]
  },
  {
   "cell_type": "code",
   "execution_count": 6,
   "metadata": {
    "editable": true
   },
   "outputs": [
    {
     "name": "stdout",
     "output_type": "stream",
     "text": [
      "            artist_id  artist_latitude  artist_location  artist_longitude  \\\n",
      "0  ARD7TVE1187B99BFB1              NaN  California - LA               NaN   \n",
      "\n",
      "  artist_name   duration  num_songs             song_id             title  \\\n",
      "0      Casual  218.93179          1  SOMZWCG12A8C13C480  I Didn't Mean To   \n",
      "\n",
      "   year  \n",
      "0     0  \n"
     ]
    }
   ],
   "source": [
    "#Read JSON file through PANDAS function read_json\n",
    "data = pd.read_json(filepath,lines=True)\n",
    "print(data)"
   ]
  },
  {
   "cell_type": "markdown",
   "metadata": {
    "editable": true
   },
   "source": [
    "## #1: `songs` Table\n",
    "#### Extract Data for Songs Table\n",
    "- Select columns for song ID, title, artist ID, year, and duration\n",
    "- Use `df.values` to select just the values from the dataframe\n",
    "- Index to select the first (only) record in the dataframe\n",
    "- Convert the array to a list and set it to `song_data`"
   ]
  },
  {
   "cell_type": "code",
   "execution_count": 7,
   "metadata": {
    "editable": true
   },
   "outputs": [
    {
     "name": "stdout",
     "output_type": "stream",
     "text": [
      "            artist_id  artist_latitude  artist_location  artist_longitude  \\\n",
      "0  ARD7TVE1187B99BFB1              NaN  California - LA               NaN   \n",
      "\n",
      "  artist_name   duration  num_songs             song_id             title  \\\n",
      "0      Casual  218.93179          1  SOMZWCG12A8C13C480  I Didn't Mean To   \n",
      "\n",
      "   year  \n",
      "0     0  \n"
     ]
    }
   ],
   "source": [
    "#Convert data to a Data Frame for easy execution & print values\n",
    "df = pd.DataFrame(data)\n",
    "print(df)"
   ]
  },
  {
   "cell_type": "markdown",
   "metadata": {
    "editable": true
   },
   "source": [
    "#### Insert Record into Song Table\n",
    "Implement the `song_table_insert` query in `sql_queries.py` and run the cell below to insert a record for this song into the `songs` table. Remember to run `create_tables.py` before running the cell below to ensure you've created/resetted the `songs` table in the sparkify database."
   ]
  },
  {
   "cell_type": "code",
   "execution_count": 8,
   "metadata": {
    "editable": true
   },
   "outputs": [
    {
     "name": "stdout",
     "output_type": "stream",
     "text": [
      "('SOMZWCG12A8C13C480', \"I Didn't Mean To\", 'ARD7TVE1187B99BFB1', 0, 218.93179)\n"
     ]
    }
   ],
   "source": [
    "#For test purposes only, CREATE table\n",
    "try:\n",
    "    cur.execute(\"CREATE TABLE IF NOT EXISTS songs2(songplay_id varchar, title varchar, artist_id varchar, year int, duration float)\")\n",
    "except psycopg2.Error as e: \n",
    "    print(\"Error: Issue creating table\")\n",
    "    print (e)\n",
    "    \n",
    "#Insert dataframe data using function ITERTUPLES() in a for loop\n",
    "try:\n",
    "     for row in df.itertuples():\n",
    "         cur.execute(\"INSERT INTO songs2(songplay_id, title, artist_id, year, duration)\\\n",
    "                      VALUES (%s,%s,%s,%s,%s)\",\\\n",
    "                      (row.song_id,\n",
    "                       row.title,\n",
    "                       row.artist_id,\n",
    "                       row.year,\n",
    "                       row.duration)\n",
    "                   ) \n",
    "\n",
    "except psycopg2.Error as e: \n",
    "    print(\"Error: INsert error\")\n",
    "    print (e)\n",
    "\n",
    "\n",
    "conn.commit()\n",
    "\n",
    "#Check if values have been correctly inserted & print them out\n",
    "cur.execute(\"SELECT * FROM songs2;\")\n",
    "row = cur.fetchone()\n",
    "while row:\n",
    "   print(row)\n",
    "   row = cur.fetchone()\n"
   ]
  },
  {
   "cell_type": "markdown",
   "metadata": {
    "editable": true
   },
   "source": [
    "Run `test.ipynb` to see if you've successfully added a record to this table."
   ]
  },
  {
   "cell_type": "markdown",
   "metadata": {
    "editable": true
   },
   "source": [
    "## #2: `artists` Table\n",
    "#### Extract Data for Artists Table\n",
    "- Select columns for artist ID, name, location, latitude, and longitude\n",
    "- Use `df.values` to select just the values from the dataframe\n",
    "- Index to select the first (only) record in the dataframe\n",
    "- Convert the array to a list and set it to `artist_data`"
   ]
  },
  {
   "cell_type": "code",
   "execution_count": 9,
   "metadata": {
    "editable": true
   },
   "outputs": [
    {
     "name": "stdout",
     "output_type": "stream",
     "text": [
      "('ARD7TVE1187B99BFB1', 'Casual', 'California - LA', nan, nan)\n"
     ]
    }
   ],
   "source": [
    "#For test purposes only, CREATE table\n",
    "try:\n",
    "    cur.execute(\"CREATE TABLE IF NOT EXISTS artists(artist_id varchar,name text, location varchar,latitude float, longitude float)\")\n",
    "except psycopg2.Error as e: \n",
    "    print(\"Error: Issue creating table\")\n",
    "    print (e)\n",
    "    \n",
    "#Insert dataframe data using function ITERTUPLES() in a for loop\n",
    "try:\n",
    "     for row in df.itertuples():\n",
    "         cur.execute(\"INSERT INTO artists(artist_id,name,location,latitude,longitude)\\\n",
    "                      VALUES (%s,%s,%s,%s,%s)\",\\\n",
    "                      (row.artist_id,\n",
    "                       row.artist_name,\n",
    "                       row.artist_location,\n",
    "                       row.artist_latitude,\n",
    "                       row.artist_longitude)\n",
    "                   ) \n",
    "\n",
    "except psycopg2.Error as e: \n",
    "    print(\"Error: INsert error\")\n",
    "    print (e)\n",
    "\n",
    "\n",
    "conn.commit()\n",
    "\n",
    "#Check if values have been correctly inserted & print them out\n",
    "cur.execute(\"SELECT * FROM artists;\")\n",
    "row = cur.fetchone()\n",
    "while row:\n",
    "   print(row)\n",
    "   row = cur.fetchone()\n"
   ]
  },
  {
   "cell_type": "markdown",
   "metadata": {
    "editable": true
   },
   "source": [
    "#### Insert Record into Artist Table\n",
    "Implement the `artist_table_insert` query in `sql_queries.py` and run the cell below to insert a record for this song's artist into the `artists` table. Remember to run `create_tables.py` before running the cell below to ensure you've created/resetted the `artists` table in the sparkify database."
   ]
  },
  {
   "cell_type": "code",
   "execution_count": null,
   "metadata": {
    "editable": true
   },
   "outputs": [],
   "source": []
  },
  {
   "cell_type": "markdown",
   "metadata": {
    "editable": true
   },
   "source": [
    "Run `test.ipynb` to see if you've successfully added a record to this table."
   ]
  },
  {
   "cell_type": "markdown",
   "metadata": {
    "editable": true
   },
   "source": [
    "# Process `log_data`\n",
    "In this part, you'll perform ETL on the second dataset, `log_data`, to create the `time` and `users` dimensional tables, as well as the `songplays` fact table.\n",
    "\n",
    "Let's perform ETL on a single log file and load a single record into each table.\n",
    "- Use the `get_files` function provided above to get a list of all log JSON files in `data/log_data`\n",
    "- Select the first log file in this list\n",
    "- Read the log file and view the data"
   ]
  },
  {
   "cell_type": "code",
   "execution_count": 10,
   "metadata": {
    "editable": true
   },
   "outputs": [],
   "source": [
    "#Get all the files from the log folder\n",
    "log_files = get_files('data/log_data/2018/11')\n"
   ]
  },
  {
   "cell_type": "code",
   "execution_count": 11,
   "metadata": {
    "editable": true
   },
   "outputs": [],
   "source": [
    "#Pick up the first file in the log folder\n",
    "filepath = log_files[0]"
   ]
  },
  {
   "cell_type": "code",
   "execution_count": 30,
   "metadata": {
    "editable": true
   },
   "outputs": [
    {
     "data": {
      "text/html": [
       "<div>\n",
       "<style scoped>\n",
       "    .dataframe tbody tr th:only-of-type {\n",
       "        vertical-align: middle;\n",
       "    }\n",
       "\n",
       "    .dataframe tbody tr th {\n",
       "        vertical-align: top;\n",
       "    }\n",
       "\n",
       "    .dataframe thead th {\n",
       "        text-align: right;\n",
       "    }\n",
       "</style>\n",
       "<table border=\"1\" class=\"dataframe\">\n",
       "  <thead>\n",
       "    <tr style=\"text-align: right;\">\n",
       "      <th></th>\n",
       "      <th>artist</th>\n",
       "      <th>auth</th>\n",
       "      <th>firstName</th>\n",
       "      <th>gender</th>\n",
       "      <th>itemInSession</th>\n",
       "      <th>lastName</th>\n",
       "      <th>length</th>\n",
       "      <th>level</th>\n",
       "      <th>location</th>\n",
       "      <th>method</th>\n",
       "      <th>page</th>\n",
       "      <th>registration</th>\n",
       "      <th>sessionId</th>\n",
       "      <th>song</th>\n",
       "      <th>status</th>\n",
       "      <th>ts</th>\n",
       "      <th>userAgent</th>\n",
       "      <th>userId</th>\n",
       "    </tr>\n",
       "  </thead>\n",
       "  <tbody>\n",
       "    <tr>\n",
       "      <th>0</th>\n",
       "      <td>Stephen Lynch</td>\n",
       "      <td>Logged In</td>\n",
       "      <td>Jayden</td>\n",
       "      <td>M</td>\n",
       "      <td>0</td>\n",
       "      <td>Bell</td>\n",
       "      <td>182.85669</td>\n",
       "      <td>free</td>\n",
       "      <td>Dallas-Fort Worth-Arlington, TX</td>\n",
       "      <td>PUT</td>\n",
       "      <td>NextSong</td>\n",
       "      <td>1.540992e+12</td>\n",
       "      <td>829</td>\n",
       "      <td>Jim Henson's Dead</td>\n",
       "      <td>200</td>\n",
       "      <td>1543537327796</td>\n",
       "      <td>Mozilla/5.0 (compatible; MSIE 10.0; Windows NT...</td>\n",
       "      <td>91</td>\n",
       "    </tr>\n",
       "    <tr>\n",
       "      <th>1</th>\n",
       "      <td>Manowar</td>\n",
       "      <td>Logged In</td>\n",
       "      <td>Jacob</td>\n",
       "      <td>M</td>\n",
       "      <td>0</td>\n",
       "      <td>Klein</td>\n",
       "      <td>247.56200</td>\n",
       "      <td>paid</td>\n",
       "      <td>Tampa-St. Petersburg-Clearwater, FL</td>\n",
       "      <td>PUT</td>\n",
       "      <td>NextSong</td>\n",
       "      <td>1.540558e+12</td>\n",
       "      <td>1049</td>\n",
       "      <td>Shell Shock</td>\n",
       "      <td>200</td>\n",
       "      <td>1543540121796</td>\n",
       "      <td>\"Mozilla/5.0 (Macintosh; Intel Mac OS X 10_9_4...</td>\n",
       "      <td>73</td>\n",
       "    </tr>\n",
       "    <tr>\n",
       "      <th>2</th>\n",
       "      <td>Morcheeba</td>\n",
       "      <td>Logged In</td>\n",
       "      <td>Jacob</td>\n",
       "      <td>M</td>\n",
       "      <td>1</td>\n",
       "      <td>Klein</td>\n",
       "      <td>257.41016</td>\n",
       "      <td>paid</td>\n",
       "      <td>Tampa-St. Petersburg-Clearwater, FL</td>\n",
       "      <td>PUT</td>\n",
       "      <td>NextSong</td>\n",
       "      <td>1.540558e+12</td>\n",
       "      <td>1049</td>\n",
       "      <td>Women Lose Weight (Feat: Slick Rick)</td>\n",
       "      <td>200</td>\n",
       "      <td>1543540368796</td>\n",
       "      <td>\"Mozilla/5.0 (Macintosh; Intel Mac OS X 10_9_4...</td>\n",
       "      <td>73</td>\n",
       "    </tr>\n",
       "    <tr>\n",
       "      <th>3</th>\n",
       "      <td>Maroon 5</td>\n",
       "      <td>Logged In</td>\n",
       "      <td>Jacob</td>\n",
       "      <td>M</td>\n",
       "      <td>2</td>\n",
       "      <td>Klein</td>\n",
       "      <td>231.23546</td>\n",
       "      <td>paid</td>\n",
       "      <td>Tampa-St. Petersburg-Clearwater, FL</td>\n",
       "      <td>PUT</td>\n",
       "      <td>NextSong</td>\n",
       "      <td>1.540558e+12</td>\n",
       "      <td>1049</td>\n",
       "      <td>Won't Go Home Without You</td>\n",
       "      <td>200</td>\n",
       "      <td>1543540625796</td>\n",
       "      <td>\"Mozilla/5.0 (Macintosh; Intel Mac OS X 10_9_4...</td>\n",
       "      <td>73</td>\n",
       "    </tr>\n",
       "    <tr>\n",
       "      <th>4</th>\n",
       "      <td>Train</td>\n",
       "      <td>Logged In</td>\n",
       "      <td>Jacob</td>\n",
       "      <td>M</td>\n",
       "      <td>3</td>\n",
       "      <td>Klein</td>\n",
       "      <td>216.76363</td>\n",
       "      <td>paid</td>\n",
       "      <td>Tampa-St. Petersburg-Clearwater, FL</td>\n",
       "      <td>PUT</td>\n",
       "      <td>NextSong</td>\n",
       "      <td>1.540558e+12</td>\n",
       "      <td>1049</td>\n",
       "      <td>Hey_ Soul Sister</td>\n",
       "      <td>200</td>\n",
       "      <td>1543540856796</td>\n",
       "      <td>\"Mozilla/5.0 (Macintosh; Intel Mac OS X 10_9_4...</td>\n",
       "      <td>73</td>\n",
       "    </tr>\n",
       "  </tbody>\n",
       "</table>\n",
       "</div>"
      ],
      "text/plain": [
       "          artist       auth firstName gender  itemInSession lastName  \\\n",
       "0  Stephen Lynch  Logged In    Jayden      M              0     Bell   \n",
       "1        Manowar  Logged In     Jacob      M              0    Klein   \n",
       "2      Morcheeba  Logged In     Jacob      M              1    Klein   \n",
       "3       Maroon 5  Logged In     Jacob      M              2    Klein   \n",
       "4          Train  Logged In     Jacob      M              3    Klein   \n",
       "\n",
       "      length level                             location method      page  \\\n",
       "0  182.85669  free      Dallas-Fort Worth-Arlington, TX    PUT  NextSong   \n",
       "1  247.56200  paid  Tampa-St. Petersburg-Clearwater, FL    PUT  NextSong   \n",
       "2  257.41016  paid  Tampa-St. Petersburg-Clearwater, FL    PUT  NextSong   \n",
       "3  231.23546  paid  Tampa-St. Petersburg-Clearwater, FL    PUT  NextSong   \n",
       "4  216.76363  paid  Tampa-St. Petersburg-Clearwater, FL    PUT  NextSong   \n",
       "\n",
       "   registration  sessionId                                  song  status  \\\n",
       "0  1.540992e+12        829                     Jim Henson's Dead     200   \n",
       "1  1.540558e+12       1049                           Shell Shock     200   \n",
       "2  1.540558e+12       1049  Women Lose Weight (Feat: Slick Rick)     200   \n",
       "3  1.540558e+12       1049             Won't Go Home Without You     200   \n",
       "4  1.540558e+12       1049                      Hey_ Soul Sister     200   \n",
       "\n",
       "              ts                                          userAgent userId  \n",
       "0  1543537327796  Mozilla/5.0 (compatible; MSIE 10.0; Windows NT...     91  \n",
       "1  1543540121796  \"Mozilla/5.0 (Macintosh; Intel Mac OS X 10_9_4...     73  \n",
       "2  1543540368796  \"Mozilla/5.0 (Macintosh; Intel Mac OS X 10_9_4...     73  \n",
       "3  1543540625796  \"Mozilla/5.0 (Macintosh; Intel Mac OS X 10_9_4...     73  \n",
       "4  1543540856796  \"Mozilla/5.0 (Macintosh; Intel Mac OS X 10_9_4...     73  "
      ]
     },
     "execution_count": 30,
     "metadata": {},
     "output_type": "execute_result"
    }
   ],
   "source": [
    "#Using PANDA functions, read through the contents of the first file and display that\n",
    "df_log = pd.read_json(filepath, lines=True)\n",
    "df_log.head()"
   ]
  },
  {
   "cell_type": "markdown",
   "metadata": {
    "editable": true
   },
   "source": [
    "## #3: `time` Table\n",
    "#### Extract Data for Time Table\n",
    "- Filter records by `NextSong` action\n",
    "- Convert the `ts` timestamp column to datetime\n",
    "  - Hint: the current timestamp is in milliseconds\n",
    "- Extract the timestamp, hour, day, week of year, month, year, and weekday from the `ts` column and set `time_data` to a list containing these values in order\n",
    "  - Hint: use pandas' [`dt` attribute](https://pandas.pydata.org/pandas-docs/stable/reference/api/pandas.Series.dt.html) to access easily datetimelike properties.\n",
    "- Specify labels for these columns and set to `column_labels`\n",
    "- Create a dataframe, `time_df,` containing the time data for this file by combining `column_labels` and `time_data` into a dictionary and converting this into a dataframe"
   ]
  },
  {
   "cell_type": "code",
   "execution_count": 33,
   "metadata": {
    "editable": true
   },
   "outputs": [],
   "source": [
    "#Filter records by NextSong action & store it in a variable df_filter\n",
    "df_filter = df_log[(df_log['page'] == 'NextSong')]\n"
   ]
  },
  {
   "cell_type": "code",
   "execution_count": 34,
   "metadata": {
    "editable": true
   },
   "outputs": [
    {
     "name": "stdout",
     "output_type": "stream",
     "text": [
      "                                                artist       auth firstName  \\\n",
      "0                                        Stephen Lynch  Logged In    Jayden   \n",
      "1                                              Manowar  Logged In     Jacob   \n",
      "2                                            Morcheeba  Logged In     Jacob   \n",
      "3                                             Maroon 5  Logged In     Jacob   \n",
      "4                                                Train  Logged In     Jacob   \n",
      "5                                                LMFAO  Logged In     Jacob   \n",
      "6                                             DJ Dizzy  Logged In     Jacob   \n",
      "7                              Fish Go Deep & Tracey K  Logged In     Jacob   \n",
      "9                                                  M83  Logged In     Jacob   \n",
      "10                                              Saybia  Logged In     Jacob   \n",
      "11                                       Local Natives  Logged In     Jacob   \n",
      "12                                          South Park  Logged In     Jacob   \n",
      "13                              UNKLE Feat. Josh Homme  Logged In     Jacob   \n",
      "14                                 Justyna Steczkowska  Logged In     Jacob   \n",
      "15                                         Evanescence  Logged In     Jacob   \n",
      "16                                            Coldplay  Logged In     Jacob   \n",
      "17                                            Hot Chip  Logged In     Jacob   \n",
      "18                                      Ellie Goulding  Logged In     Jacob   \n",
      "19                                      Postal Service  Logged In     Jacob   \n",
      "23                                        Jack Johnson  Logged In     Aiden   \n",
      "24                                       Iron And Wine  Logged In     Aiden   \n",
      "25                                              The xx  Logged In     Aiden   \n",
      "26                                         The Antlers  Logged In     Aiden   \n",
      "27                                          Fattburger  Logged In     Aiden   \n",
      "30                                         Chris Brown  Logged In     Layla   \n",
      "31                                             Phoenix  Logged In     Layla   \n",
      "33   Jim Lauderdale/Ralph Stanley & The Clinch Moun...  Logged In     Layla   \n",
      "35                                               Musiq  Logged In     Layla   \n",
      "36                      Cass McCombs feat. Karen Black  Logged In     Layla   \n",
      "38                                     Scissor Sisters  Logged In     Layla   \n",
      "..                                                 ...        ...       ...   \n",
      "356                                            Rihanna  Logged In     Rylan   \n",
      "357                                        Evanescence  Logged In     Rylan   \n",
      "358                                          Mr. Vegas  Logged In     Chloe   \n",
      "359                                     Mischa Daniels  Logged In     Rylan   \n",
      "360                                     The Menzingers  Logged In     Chloe   \n",
      "361                                  Justin Timberlake  Logged In     Chloe   \n",
      "362                             Vilma Palma e Vampiros  Logged In     Rylan   \n",
      "363                           CCCP - Fedeli Alla Linea  Logged In     Chloe   \n",
      "364                          Kid Cudi / MGMT / Ratatat  Logged In     Rylan   \n",
      "365            Drake / Kanye West / Lil Wayne / Eminem  Logged In     Chloe   \n",
      "366                                  A Day To Remember  Logged In     Rylan   \n",
      "367                                               T.I.  Logged In    Jayden   \n",
      "368                                      The Offspring  Logged In     Rylan   \n",
      "369                                     Jorge Gonzalez  Logged In     Chloe   \n",
      "370                                      Sneaker Pimps  Logged In    Jayden   \n",
      "371                                    Escape The Fate  Logged In     Rylan   \n",
      "372                                             Juanes  Logged In     Chloe   \n",
      "373                                   The Replacements  Logged In     Rylan   \n",
      "374                                    Sarah McLachlan  Logged In     Chloe   \n",
      "375                               Sonny Boy Williamson  Logged In     Rylan   \n",
      "376               Soul II Soul Featuring Caron Wheeler  Logged In     Rylan   \n",
      "377                             Florence + The Machine  Logged In     Chloe   \n",
      "378                                            Pantera  Logged In     Rylan   \n",
      "380                                               Cold  Logged In     Chloe   \n",
      "381                                            Norther  Logged In     Chloe   \n",
      "382                                       Foo Fighters  Logged In     Rylan   \n",
      "383                                         Timbiriche  Logged In     Rylan   \n",
      "384                                   A Perfect Circle  Logged In     Rylan   \n",
      "385                                           Anberlin  Logged In     Rylan   \n",
      "387                                          Deas Vail  Logged In    Elijah   \n",
      "\n",
      "    gender  itemInSession lastName     length level  \\\n",
      "0        M              0     Bell  182.85669  free   \n",
      "1        M              0    Klein  247.56200  paid   \n",
      "2        M              1    Klein  257.41016  paid   \n",
      "3        M              2    Klein  231.23546  paid   \n",
      "4        M              3    Klein  216.76363  paid   \n",
      "5        M              4    Klein  227.99628  paid   \n",
      "6        M              5    Klein  221.15220  paid   \n",
      "7        M              6    Klein  377.41669  paid   \n",
      "9        M              7    Klein   96.18240  paid   \n",
      "10       M              8    Klein  257.25342  paid   \n",
      "11       M              9    Klein  266.05669  paid   \n",
      "12       M             10    Klein  112.97914  paid   \n",
      "13       M             11    Klein  307.19955  paid   \n",
      "14       M             12    Klein  333.53098  paid   \n",
      "15       M             13    Klein  256.91383  paid   \n",
      "16       M             14    Klein  297.35138  paid   \n",
      "17       M             15    Klein  333.50485  paid   \n",
      "18       M             16    Klein  205.06077  paid   \n",
      "19       M             17    Klein  307.53914  paid   \n",
      "23       M              1     Hess  240.06485  free   \n",
      "24       M              2     Hess  153.05098  free   \n",
      "25       M              3     Hess  158.24934  free   \n",
      "26       M              4     Hess  328.88118  free   \n",
      "27       M              5     Hess  217.20771  free   \n",
      "30       F              2  Griffin  203.80689  paid   \n",
      "31       F              3  Griffin  278.07302  paid   \n",
      "33       F              5  Griffin  127.05914  paid   \n",
      "35       F              7  Griffin  297.84771  paid   \n",
      "36       F              8  Griffin  322.06322  paid   \n",
      "38       F             10  Griffin  352.52200  paid   \n",
      "..     ...            ...      ...        ...   ...   \n",
      "356      M             44   George  239.75138  paid   \n",
      "357      M             45   George  220.34240  paid   \n",
      "358      F             12   Cuevas  240.69179  paid   \n",
      "359      M             46   George  419.81342  paid   \n",
      "360      F             13   Cuevas  276.00934  paid   \n",
      "361      F             14   Cuevas  288.93995  paid   \n",
      "362      M             47   George  338.18077  paid   \n",
      "363      F             15   Cuevas  329.66485  paid   \n",
      "364      M             48   George  295.67955  paid   \n",
      "365      F             16   Cuevas  357.66812  paid   \n",
      "366      M             49   George  247.64036  paid   \n",
      "367      M              0     Bell  299.75465  free   \n",
      "368      M             50   George  163.31710  paid   \n",
      "369      F             17   Cuevas  272.14322  paid   \n",
      "370      M              1     Bell  260.91057  free   \n",
      "371      M             51   George  266.73587  paid   \n",
      "372      F             18   Cuevas  243.27791  paid   \n",
      "373      M             52   George  170.57914  paid   \n",
      "374      F             19   Cuevas  278.90893  paid   \n",
      "375      M             53   George  152.24118  paid   \n",
      "376      M             54   George  225.22730  paid   \n",
      "377      F             20   Cuevas  219.66322  paid   \n",
      "378      M             55   George  286.69342  paid   \n",
      "380      F             21   Cuevas  177.76281  paid   \n",
      "381      F             22   Cuevas  246.54322  paid   \n",
      "382      M             57   George  271.38567  paid   \n",
      "383      M             58   George  202.60526  paid   \n",
      "384      M             59   George  206.05342  paid   \n",
      "385      M             60   George  348.68200  paid   \n",
      "387      M              0    Davis  237.68771  free   \n",
      "\n",
      "                                location method      page  registration  \\\n",
      "0        Dallas-Fort Worth-Arlington, TX    PUT  NextSong  1.540992e+12   \n",
      "1    Tampa-St. Petersburg-Clearwater, FL    PUT  NextSong  1.540558e+12   \n",
      "2    Tampa-St. Petersburg-Clearwater, FL    PUT  NextSong  1.540558e+12   \n",
      "3    Tampa-St. Petersburg-Clearwater, FL    PUT  NextSong  1.540558e+12   \n",
      "4    Tampa-St. Petersburg-Clearwater, FL    PUT  NextSong  1.540558e+12   \n",
      "5    Tampa-St. Petersburg-Clearwater, FL    PUT  NextSong  1.540558e+12   \n",
      "6    Tampa-St. Petersburg-Clearwater, FL    PUT  NextSong  1.540558e+12   \n",
      "7    Tampa-St. Petersburg-Clearwater, FL    PUT  NextSong  1.540558e+12   \n",
      "9    Tampa-St. Petersburg-Clearwater, FL    PUT  NextSong  1.540558e+12   \n",
      "10   Tampa-St. Petersburg-Clearwater, FL    PUT  NextSong  1.540558e+12   \n",
      "11   Tampa-St. Petersburg-Clearwater, FL    PUT  NextSong  1.540558e+12   \n",
      "12   Tampa-St. Petersburg-Clearwater, FL    PUT  NextSong  1.540558e+12   \n",
      "13   Tampa-St. Petersburg-Clearwater, FL    PUT  NextSong  1.540558e+12   \n",
      "14   Tampa-St. Petersburg-Clearwater, FL    PUT  NextSong  1.540558e+12   \n",
      "15   Tampa-St. Petersburg-Clearwater, FL    PUT  NextSong  1.540558e+12   \n",
      "16   Tampa-St. Petersburg-Clearwater, FL    PUT  NextSong  1.540558e+12   \n",
      "17   Tampa-St. Petersburg-Clearwater, FL    PUT  NextSong  1.540558e+12   \n",
      "18   Tampa-St. Petersburg-Clearwater, FL    PUT  NextSong  1.540558e+12   \n",
      "19   Tampa-St. Petersburg-Clearwater, FL    PUT  NextSong  1.540558e+12   \n",
      "23             La Crosse-Onalaska, WI-MN    PUT  NextSong  1.540829e+12   \n",
      "24             La Crosse-Onalaska, WI-MN    PUT  NextSong  1.540829e+12   \n",
      "25             La Crosse-Onalaska, WI-MN    PUT  NextSong  1.540829e+12   \n",
      "26             La Crosse-Onalaska, WI-MN    PUT  NextSong  1.540829e+12   \n",
      "27             La Crosse-Onalaska, WI-MN    PUT  NextSong  1.540829e+12   \n",
      "30          Lake Havasu City-Kingman, AZ    PUT  NextSong  1.541057e+12   \n",
      "31          Lake Havasu City-Kingman, AZ    PUT  NextSong  1.541057e+12   \n",
      "33          Lake Havasu City-Kingman, AZ    PUT  NextSong  1.541057e+12   \n",
      "35          Lake Havasu City-Kingman, AZ    PUT  NextSong  1.541057e+12   \n",
      "36          Lake Havasu City-Kingman, AZ    PUT  NextSong  1.541057e+12   \n",
      "38          Lake Havasu City-Kingman, AZ    PUT  NextSong  1.541057e+12   \n",
      "..                                   ...    ...       ...           ...   \n",
      "356                Birmingham-Hoover, AL    PUT  NextSong  1.541020e+12   \n",
      "357                Birmingham-Hoover, AL    PUT  NextSong  1.541020e+12   \n",
      "358    San Francisco-Oakland-Hayward, CA    PUT  NextSong  1.540941e+12   \n",
      "359                Birmingham-Hoover, AL    PUT  NextSong  1.541020e+12   \n",
      "360    San Francisco-Oakland-Hayward, CA    PUT  NextSong  1.540941e+12   \n",
      "361    San Francisco-Oakland-Hayward, CA    PUT  NextSong  1.540941e+12   \n",
      "362                Birmingham-Hoover, AL    PUT  NextSong  1.541020e+12   \n",
      "363    San Francisco-Oakland-Hayward, CA    PUT  NextSong  1.540941e+12   \n",
      "364                Birmingham-Hoover, AL    PUT  NextSong  1.541020e+12   \n",
      "365    San Francisco-Oakland-Hayward, CA    PUT  NextSong  1.540941e+12   \n",
      "366                Birmingham-Hoover, AL    PUT  NextSong  1.541020e+12   \n",
      "367      Dallas-Fort Worth-Arlington, TX    PUT  NextSong  1.540992e+12   \n",
      "368                Birmingham-Hoover, AL    PUT  NextSong  1.541020e+12   \n",
      "369    San Francisco-Oakland-Hayward, CA    PUT  NextSong  1.540941e+12   \n",
      "370      Dallas-Fort Worth-Arlington, TX    PUT  NextSong  1.540992e+12   \n",
      "371                Birmingham-Hoover, AL    PUT  NextSong  1.541020e+12   \n",
      "372    San Francisco-Oakland-Hayward, CA    PUT  NextSong  1.540941e+12   \n",
      "373                Birmingham-Hoover, AL    PUT  NextSong  1.541020e+12   \n",
      "374    San Francisco-Oakland-Hayward, CA    PUT  NextSong  1.540941e+12   \n",
      "375                Birmingham-Hoover, AL    PUT  NextSong  1.541020e+12   \n",
      "376                Birmingham-Hoover, AL    PUT  NextSong  1.541020e+12   \n",
      "377    San Francisco-Oakland-Hayward, CA    PUT  NextSong  1.540941e+12   \n",
      "378                Birmingham-Hoover, AL    PUT  NextSong  1.541020e+12   \n",
      "380    San Francisco-Oakland-Hayward, CA    PUT  NextSong  1.540941e+12   \n",
      "381    San Francisco-Oakland-Hayward, CA    PUT  NextSong  1.540941e+12   \n",
      "382                Birmingham-Hoover, AL    PUT  NextSong  1.541020e+12   \n",
      "383                Birmingham-Hoover, AL    PUT  NextSong  1.541020e+12   \n",
      "384                Birmingham-Hoover, AL    PUT  NextSong  1.541020e+12   \n",
      "385                Birmingham-Hoover, AL    PUT  NextSong  1.541020e+12   \n",
      "387          Detroit-Warren-Dearborn, MI    PUT  NextSong  1.540772e+12   \n",
      "\n",
      "     sessionId                                               song  status  \\\n",
      "0          829                                  Jim Henson's Dead     200   \n",
      "1         1049                                        Shell Shock     200   \n",
      "2         1049               Women Lose Weight (Feat: Slick Rick)     200   \n",
      "3         1049                          Won't Go Home Without You     200   \n",
      "4         1049                                   Hey_ Soul Sister     200   \n",
      "5         1049                                 I'm In Miami Bitch     200   \n",
      "6         1049                                         Sexy Bitch     200   \n",
      "7         1049         The Cure & The Cause (Dennis Ferrer Remix)     200   \n",
      "9         1049                                      Staring At Me     200   \n",
      "10        1049                               The Second You Sleep     200   \n",
      "11        1049                                          Wide Eyes     200   \n",
      "12        1049                La Resistance (Medley) (LP Version)     200   \n",
      "13        1049                                           Restless     200   \n",
      "14        1049                                             Noc...     200   \n",
      "15        1049                                           Like You     200   \n",
      "16        1049                     God Put A Smile Upon Your Face     200   \n",
      "17        1049                                            Playboy     200   \n",
      "18        1049                                  Every Time You Go     200   \n",
      "19        1049                             Natural Anthem (Album)     200   \n",
      "23         986                                             Taylor     200   \n",
      "24         986                                    Naked As We Can     200   \n",
      "25         986                                            Fantasy     200   \n",
      "26         986                                           Epilogue     200   \n",
      "27         986                                           Groovin'     200   \n",
      "30        1051                   Ain't No Way (You Won't Love Me)     200   \n",
      "31        1051                                               Rome     200   \n",
      "33        1051                            Highway Through My Home     200   \n",
      "35        1051                                                143     200   \n",
      "36        1051                              Dreams-Come-True-Girl     200   \n",
      "38        1051                          I Don't Feel Like Dancin'     200   \n",
      "..         ...                                                ...     ...   \n",
      "356       1076                                                G4L     200   \n",
      "357       1076                                              Hello     200   \n",
      "358       1114                                             Tamale     200   \n",
      "359       1076                                      Another Place     200   \n",
      "360       1114                                   Straight To Hell     200   \n",
      "361       1114                                     Cry Me A River     200   \n",
      "362       1076                                Un Camino Hasta Vos     200   \n",
      "363       1114                       Sura (2008 Digital Remaster)     200   \n",
      "364       1076                   Pursuit Of Happiness (nightmare)     200   \n",
      "365       1114                                            Forever     200   \n",
      "366       1076                                Homesick [Acoustic]     200   \n",
      "367       1085  Dead And Gone [feat. Justin Timberlake] (Expli...     200   \n",
      "368       1076               It'll Be a Long Time (Album Version)     200   \n",
      "369       1114                      Esta Es Para Hacerte FÃÂ©liz     200   \n",
      "370       1085                                    Spin Spin Sugar     200   \n",
      "371       1076               This War Is Ours (The Guillotine II)     200   \n",
      "372       1114                               La Vida Es Un Ratico     200   \n",
      "373       1076                                         Never Mind     200   \n",
      "374       1114                                         Possession     200   \n",
      "375       1076                             Don't Start Me Talkin'     200   \n",
      "376       1076  Back To Life (However Do You Want Me) (2003 Di...     200   \n",
      "377       1114                     Dog Days Are Over (Radio Edit)     200   \n",
      "378       1076                               Heresy  (LP Version)     200   \n",
      "380       1114                                             Remedy     200   \n",
      "381       1114                                       Frozen Angel     200   \n",
      "382       1076                                      The Pretender     200   \n",
      "383       1076                                    Besos De Ceniza     200   \n",
      "384       1076                                               Rose     200   \n",
      "385       1076                                       The Haunting     200   \n",
      "387        985              Anything You Say (Unreleased Version)     200   \n",
      "\n",
      "                ts                                          userAgent userId  \\\n",
      "0    1543537327796  Mozilla/5.0 (compatible; MSIE 10.0; Windows NT...     91   \n",
      "1    1543540121796  \"Mozilla/5.0 (Macintosh; Intel Mac OS X 10_9_4...     73   \n",
      "2    1543540368796  \"Mozilla/5.0 (Macintosh; Intel Mac OS X 10_9_4...     73   \n",
      "3    1543540625796  \"Mozilla/5.0 (Macintosh; Intel Mac OS X 10_9_4...     73   \n",
      "4    1543540856796  \"Mozilla/5.0 (Macintosh; Intel Mac OS X 10_9_4...     73   \n",
      "5    1543541072796  \"Mozilla/5.0 (Macintosh; Intel Mac OS X 10_9_4...     73   \n",
      "6    1543541299796  \"Mozilla/5.0 (Macintosh; Intel Mac OS X 10_9_4...     73   \n",
      "7    1543541520796  \"Mozilla/5.0 (Macintosh; Intel Mac OS X 10_9_4...     73   \n",
      "9    1543541897796  \"Mozilla/5.0 (Macintosh; Intel Mac OS X 10_9_4...     73   \n",
      "10   1543541993796  \"Mozilla/5.0 (Macintosh; Intel Mac OS X 10_9_4...     73   \n",
      "11   1543542250796  \"Mozilla/5.0 (Macintosh; Intel Mac OS X 10_9_4...     73   \n",
      "12   1543542516796  \"Mozilla/5.0 (Macintosh; Intel Mac OS X 10_9_4...     73   \n",
      "13   1543542628796  \"Mozilla/5.0 (Macintosh; Intel Mac OS X 10_9_4...     73   \n",
      "14   1543542935796  \"Mozilla/5.0 (Macintosh; Intel Mac OS X 10_9_4...     73   \n",
      "15   1543543268796  \"Mozilla/5.0 (Macintosh; Intel Mac OS X 10_9_4...     73   \n",
      "16   1543543524796  \"Mozilla/5.0 (Macintosh; Intel Mac OS X 10_9_4...     73   \n",
      "17   1543543821796  \"Mozilla/5.0 (Macintosh; Intel Mac OS X 10_9_4...     73   \n",
      "18   1543544154796  \"Mozilla/5.0 (Macintosh; Intel Mac OS X 10_9_4...     73   \n",
      "19   1543544359796  \"Mozilla/5.0 (Macintosh; Intel Mac OS X 10_9_4...     73   \n",
      "23   1543547190796  \"Mozilla/5.0 (Macintosh; Intel Mac OS X 10_9_4...     86   \n",
      "24   1543547430796  \"Mozilla/5.0 (Macintosh; Intel Mac OS X 10_9_4...     86   \n",
      "25   1543547583796  \"Mozilla/5.0 (Macintosh; Intel Mac OS X 10_9_4...     86   \n",
      "26   1543547741796  \"Mozilla/5.0 (Macintosh; Intel Mac OS X 10_9_4...     86   \n",
      "27   1543548069796  \"Mozilla/5.0 (Macintosh; Intel Mac OS X 10_9_4...     86   \n",
      "30   1543548563796  \"Mozilla/5.0 (Windows NT 6.1; WOW64) AppleWebK...     24   \n",
      "31   1543548766796  \"Mozilla/5.0 (Windows NT 6.1; WOW64) AppleWebK...     24   \n",
      "33   1543549044796  \"Mozilla/5.0 (Windows NT 6.1; WOW64) AppleWebK...     24   \n",
      "35   1543549171796  \"Mozilla/5.0 (Windows NT 6.1; WOW64) AppleWebK...     24   \n",
      "36   1543549468796  \"Mozilla/5.0 (Windows NT 6.1; WOW64) AppleWebK...     24   \n",
      "38   1543549790796  \"Mozilla/5.0 (Windows NT 6.1; WOW64) AppleWebK...     24   \n",
      "..             ...                                                ...    ...   \n",
      "356  1543600185796  \"Mozilla/5.0 (Macintosh; Intel Mac OS X 10_9_4...     16   \n",
      "357  1543600424796  \"Mozilla/5.0 (Macintosh; Intel Mac OS X 10_9_4...     16   \n",
      "358  1543600483796  Mozilla/5.0 (Windows NT 5.1; rv:31.0) Gecko/20...     49   \n",
      "359  1543600644796  \"Mozilla/5.0 (Macintosh; Intel Mac OS X 10_9_4...     16   \n",
      "360  1543600723796  Mozilla/5.0 (Windows NT 5.1; rv:31.0) Gecko/20...     49   \n",
      "361  1543600999796  Mozilla/5.0 (Windows NT 5.1; rv:31.0) Gecko/20...     49   \n",
      "362  1543601063796  \"Mozilla/5.0 (Macintosh; Intel Mac OS X 10_9_4...     16   \n",
      "363  1543601287796  Mozilla/5.0 (Windows NT 5.1; rv:31.0) Gecko/20...     49   \n",
      "364  1543601401796  \"Mozilla/5.0 (Macintosh; Intel Mac OS X 10_9_4...     16   \n",
      "365  1543601616796  Mozilla/5.0 (Windows NT 5.1; rv:31.0) Gecko/20...     49   \n",
      "366  1543601696796  \"Mozilla/5.0 (Macintosh; Intel Mac OS X 10_9_4...     16   \n",
      "367  1543601780796  Mozilla/5.0 (compatible; MSIE 10.0; Windows NT...     91   \n",
      "368  1543601943796  \"Mozilla/5.0 (Macintosh; Intel Mac OS X 10_9_4...     16   \n",
      "369  1543601973796  Mozilla/5.0 (Windows NT 5.1; rv:31.0) Gecko/20...     49   \n",
      "370  1543602079796  Mozilla/5.0 (compatible; MSIE 10.0; Windows NT...     91   \n",
      "371  1543602106796  \"Mozilla/5.0 (Macintosh; Intel Mac OS X 10_9_4...     16   \n",
      "372  1543602245796  Mozilla/5.0 (Windows NT 5.1; rv:31.0) Gecko/20...     49   \n",
      "373  1543602372796  \"Mozilla/5.0 (Macintosh; Intel Mac OS X 10_9_4...     16   \n",
      "374  1543602488796  Mozilla/5.0 (Windows NT 5.1; rv:31.0) Gecko/20...     49   \n",
      "375  1543602542796  \"Mozilla/5.0 (Macintosh; Intel Mac OS X 10_9_4...     16   \n",
      "376  1543602694796  \"Mozilla/5.0 (Macintosh; Intel Mac OS X 10_9_4...     16   \n",
      "377  1543602766796  Mozilla/5.0 (Windows NT 5.1; rv:31.0) Gecko/20...     49   \n",
      "378  1543602919796  \"Mozilla/5.0 (Macintosh; Intel Mac OS X 10_9_4...     16   \n",
      "380  1543602985796  Mozilla/5.0 (Windows NT 5.1; rv:31.0) Gecko/20...     49   \n",
      "381  1543603162796  Mozilla/5.0 (Windows NT 5.1; rv:31.0) Gecko/20...     49   \n",
      "382  1543603205796  \"Mozilla/5.0 (Macintosh; Intel Mac OS X 10_9_4...     16   \n",
      "383  1543603476796  \"Mozilla/5.0 (Macintosh; Intel Mac OS X 10_9_4...     16   \n",
      "384  1543603678796  \"Mozilla/5.0 (Macintosh; Intel Mac OS X 10_9_4...     16   \n",
      "385  1543603884796  \"Mozilla/5.0 (Macintosh; Intel Mac OS X 10_9_4...     16   \n",
      "387  1543607664796  \"Mozilla/5.0 (Macintosh; Intel Mac OS X 10_9_4...      5   \n",
      "\n",
      "                  timestamp  \n",
      "0   2018-11-30 00:22:07.796  \n",
      "1   2018-11-30 01:08:41.796  \n",
      "2   2018-11-30 01:12:48.796  \n",
      "3   2018-11-30 01:17:05.796  \n",
      "4   2018-11-30 01:20:56.796  \n",
      "5   2018-11-30 01:24:32.796  \n",
      "6   2018-11-30 01:28:19.796  \n",
      "7   2018-11-30 01:32:00.796  \n",
      "9   2018-11-30 01:38:17.796  \n",
      "10  2018-11-30 01:39:53.796  \n",
      "11  2018-11-30 01:44:10.796  \n",
      "12  2018-11-30 01:48:36.796  \n",
      "13  2018-11-30 01:50:28.796  \n",
      "14  2018-11-30 01:55:35.796  \n",
      "15  2018-11-30 02:01:08.796  \n",
      "16  2018-11-30 02:05:24.796  \n",
      "17  2018-11-30 02:10:21.796  \n",
      "18  2018-11-30 02:15:54.796  \n",
      "19  2018-11-30 02:19:19.796  \n",
      "23  2018-11-30 03:06:30.796  \n",
      "24  2018-11-30 03:10:30.796  \n",
      "25  2018-11-30 03:13:03.796  \n",
      "26  2018-11-30 03:15:41.796  \n",
      "27  2018-11-30 03:21:09.796  \n",
      "30  2018-11-30 03:29:23.796  \n",
      "31  2018-11-30 03:32:46.796  \n",
      "33  2018-11-30 03:37:24.796  \n",
      "35  2018-11-30 03:39:31.796  \n",
      "36  2018-11-30 03:44:28.796  \n",
      "38  2018-11-30 03:49:50.796  \n",
      "..                      ...  \n",
      "356 2018-11-30 17:49:45.796  \n",
      "357 2018-11-30 17:53:44.796  \n",
      "358 2018-11-30 17:54:43.796  \n",
      "359 2018-11-30 17:57:24.796  \n",
      "360 2018-11-30 17:58:43.796  \n",
      "361 2018-11-30 18:03:19.796  \n",
      "362 2018-11-30 18:04:23.796  \n",
      "363 2018-11-30 18:08:07.796  \n",
      "364 2018-11-30 18:10:01.796  \n",
      "365 2018-11-30 18:13:36.796  \n",
      "366 2018-11-30 18:14:56.796  \n",
      "367 2018-11-30 18:16:20.796  \n",
      "368 2018-11-30 18:19:03.796  \n",
      "369 2018-11-30 18:19:33.796  \n",
      "370 2018-11-30 18:21:19.796  \n",
      "371 2018-11-30 18:21:46.796  \n",
      "372 2018-11-30 18:24:05.796  \n",
      "373 2018-11-30 18:26:12.796  \n",
      "374 2018-11-30 18:28:08.796  \n",
      "375 2018-11-30 18:29:02.796  \n",
      "376 2018-11-30 18:31:34.796  \n",
      "377 2018-11-30 18:32:46.796  \n",
      "378 2018-11-30 18:35:19.796  \n",
      "380 2018-11-30 18:36:25.796  \n",
      "381 2018-11-30 18:39:22.796  \n",
      "382 2018-11-30 18:40:05.796  \n",
      "383 2018-11-30 18:44:36.796  \n",
      "384 2018-11-30 18:47:58.796  \n",
      "385 2018-11-30 18:51:24.796  \n",
      "387 2018-11-30 19:54:24.796  \n",
      "\n",
      "[330 rows x 19 columns]\n"
     ]
    },
    {
     "name": "stderr",
     "output_type": "stream",
     "text": [
      "/opt/conda/lib/python3.6/site-packages/ipykernel_launcher.py:14: SettingWithCopyWarning: \n",
      "A value is trying to be set on a copy of a slice from a DataFrame.\n",
      "Try using .loc[row_indexer,col_indexer] = value instead\n",
      "\n",
      "See the caveats in the documentation: http://pandas.pydata.org/pandas-docs/stable/indexing.html#indexing-view-versus-copy\n",
      "  \n"
     ]
    }
   ],
   "source": [
    "#Convert data in ts column to date and time. Create another column timestamp and add that to the dataframe.    \n",
    "df_filter['timestamp'] = (pd.to_datetime(df_filter['ts'], unit='ms')\n",
    "                              .dt.tz_localize(None))\n",
    "#converted_df = pd.to_datetime(df_filter['ts'], unit='ms')\n",
    "#df_filter['timestamp'] = converted_df\n",
    "#print(converted_df)\n",
    "print(df_filter)\n"
   ]
  },
  {
   "cell_type": "code",
   "execution_count": null,
   "metadata": {
    "editable": true
   },
   "outputs": [],
   "source": [
    "time_data = ()\n",
    "column_labels = ()"
   ]
  },
  {
   "cell_type": "code",
   "execution_count": null,
   "metadata": {
    "editable": true
   },
   "outputs": [],
   "source": [
    "time_df = \n",
    "time_df.head()"
   ]
  },
  {
   "cell_type": "markdown",
   "metadata": {
    "editable": true
   },
   "source": [
    "#### Insert Records into Time Table\n",
    "Implement the `time_table_insert` query in `sql_queries.py` and run the cell below to insert records for the timestamps in this log file into the `time` table. Remember to run `create_tables.py` before running the cell below to ensure you've created/resetted the `time` table in the sparkify database."
   ]
  },
  {
   "cell_type": "code",
   "execution_count": null,
   "metadata": {
    "editable": true
   },
   "outputs": [],
   "source": [
    "for i, row in time_df.iterrows():\n",
    "    cur.execute(time_table_insert, list(row))\n",
    "    conn.commit()"
   ]
  },
  {
   "cell_type": "markdown",
   "metadata": {
    "editable": true
   },
   "source": [
    "Run `test.ipynb` to see if you've successfully added records to this table."
   ]
  },
  {
   "cell_type": "markdown",
   "metadata": {
    "editable": true
   },
   "source": [
    "## #4: `users` Table\n",
    "#### Extract Data for Users Table\n",
    "- Select columns for user ID, first name, last name, gender and level and set to `user_df`"
   ]
  },
  {
   "cell_type": "code",
   "execution_count": null,
   "metadata": {
    "editable": true
   },
   "outputs": [],
   "source": [
    "user_df = "
   ]
  },
  {
   "cell_type": "markdown",
   "metadata": {
    "editable": true
   },
   "source": [
    "#### Insert Records into Users Table\n",
    "Implement the `user_table_insert` query in `sql_queries.py` and run the cell below to insert records for the users in this log file into the `users` table. Remember to run `create_tables.py` before running the cell below to ensure you've created/resetted the `users` table in the sparkify database."
   ]
  },
  {
   "cell_type": "code",
   "execution_count": null,
   "metadata": {
    "editable": true
   },
   "outputs": [],
   "source": [
    "for i, row in user_df.iterrows():\n",
    "    cur.execute(user_table_insert, row)\n",
    "    conn.commit()"
   ]
  },
  {
   "cell_type": "markdown",
   "metadata": {
    "editable": true
   },
   "source": [
    "Run `test.ipynb` to see if you've successfully added records to this table."
   ]
  },
  {
   "cell_type": "markdown",
   "metadata": {
    "editable": true
   },
   "source": [
    "## #5: `songplays` Table\n",
    "#### Extract Data and Songplays Table\n",
    "This one is a little more complicated since information from the songs table, artists table, and original log file are all needed for the `songplays` table. Since the log file does not specify an ID for either the song or the artist, you'll need to get the song ID and artist ID by querying the songs and artists tables to find matches based on song title, artist name, and song duration time.\n",
    "- Implement the `song_select` query in `sql_queries.py` to find the song ID and artist ID based on the title, artist name, and duration of a song.\n",
    "- Select the timestamp, user ID, level, song ID, artist ID, session ID, location, and user agent and set to `songplay_data`\n",
    "\n",
    "#### Insert Records into Songplays Table\n",
    "- Implement the `songplay_table_insert` query and run the cell below to insert records for the songplay actions in this log file into the `songplays` table. Remember to run `create_tables.py` before running the cell below to ensure you've created/resetted the `songplays` table in the sparkify database."
   ]
  },
  {
   "cell_type": "code",
   "execution_count": null,
   "metadata": {
    "editable": true
   },
   "outputs": [],
   "source": [
    "for index, row in df.iterrows():\n",
    "\n",
    "    # get songid and artistid from song and artist tables\n",
    "    cur.execute(song_select, (row.song, row.artist, row.length))\n",
    "    results = cur.fetchone()\n",
    "    \n",
    "    if results:\n",
    "        songid, artistid = results\n",
    "    else:\n",
    "        songid, artistid = None, None\n",
    "\n",
    "    # insert songplay record\n",
    "    songplay_data = ()\n",
    "    cur.execute(songplay_table_insert, songplay_data)\n",
    "    conn.commit()"
   ]
  },
  {
   "cell_type": "markdown",
   "metadata": {
    "editable": true
   },
   "source": [
    "Run `test.ipynb` to see if you've successfully added records to this table."
   ]
  },
  {
   "cell_type": "markdown",
   "metadata": {
    "editable": true
   },
   "source": [
    "# Close Connection to Sparkify Database"
   ]
  },
  {
   "cell_type": "code",
   "execution_count": null,
   "metadata": {
    "editable": true
   },
   "outputs": [],
   "source": [
    "conn.close()"
   ]
  },
  {
   "cell_type": "markdown",
   "metadata": {
    "editable": true
   },
   "source": [
    "# Implement `etl.py`\n",
    "Use what you've completed in this notebook to implement `etl.py`."
   ]
  },
  {
   "cell_type": "code",
   "execution_count": null,
   "metadata": {
    "editable": true
   },
   "outputs": [],
   "source": []
  }
 ],
 "metadata": {
  "kernelspec": {
   "display_name": "Python 3",
   "language": "python",
   "name": "python3"
  },
  "language_info": {
   "codemirror_mode": {
    "name": "ipython",
    "version": 3
   },
   "file_extension": ".py",
   "mimetype": "text/x-python",
   "name": "python",
   "nbconvert_exporter": "python",
   "pygments_lexer": "ipython3",
   "version": "3.6.3"
  }
 },
 "nbformat": 4,
 "nbformat_minor": 4
}
